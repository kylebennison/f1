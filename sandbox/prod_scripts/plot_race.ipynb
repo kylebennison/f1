{
 "cells": [
  {
   "cell_type": "code",
   "execution_count": 15,
   "id": "7538ba89",
   "metadata": {},
   "outputs": [],
   "source": [
    "%matplotlib inline"
   ]
  },
  {
   "cell_type": "code",
   "execution_count": 19,
   "id": "1d8915cf",
   "metadata": {},
   "outputs": [],
   "source": [
    "%run prod_scripts/get_latest_event_round.ipynb"
   ]
  },
  {
   "cell_type": "code",
   "execution_count": 26,
   "id": "38da110d",
   "metadata": {},
   "outputs": [],
   "source": [
    "import os"
   ]
  },
  {
   "cell_type": "code",
   "execution_count": 27,
   "id": "d3cc6e18",
   "metadata": {},
   "outputs": [
    {
     "data": {
      "text/plain": [
       "['2021_22_FP1_laps.csv',\n",
       " '2021_22_Q_laps.csv',\n",
       " '2021_22_Q_telem_fastest.csv',\n",
       " '2021_22_R_laps.csv',\n",
       " '2022_1_FP1_laps.csv',\n",
       " '2022_1_FP1_telem_all.csv',\n",
       " '2022_1_fp2_laps.csv',\n",
       " '2022_1_q_laps.csv',\n",
       " '2022_1_q_telem_fastest.csv',\n",
       " '2022_1_R_laps.csv',\n",
       " '2022_1_R_telem_all.csv',\n",
       " '2022_1_R_telem_fastest.csv',\n",
       " '2022_2_FP1_laps.csv',\n",
       " '2022_2_FP1_telem_all.csv',\n",
       " '2022_2_FP2_laps.csv',\n",
       " '2022_2_FP2_telem_all.csv',\n",
       " '2022_2_Q_laps.csv',\n",
       " '2022_2_Q_telem_all.csv',\n",
       " '2022_2_Q_telem_fastest.csv',\n",
       " '2022_2_R_laps.csv',\n",
       " '2022_2_R_telem_all.csv',\n",
       " '2022_3_FP2_laps.csv',\n",
       " '2022_3_FP2_telem_all.csv',\n",
       " '2022_7_R_laps.csv',\n",
       " '2022_7_R_telem_all.csv',\n",
       " '2022_7_R_telem_fastest.csv']"
      ]
     },
     "execution_count": 27,
     "metadata": {},
     "output_type": "execute_result"
    }
   ],
   "source": [
    "from datetime import datetime\n",
    "\n",
    "year = datetime.today().year\n",
    "\n",
    "os.listdir('timing_data')"
   ]
  },
  {
   "cell_type": "code",
   "execution_count": 28,
   "id": "a29fb555",
   "metadata": {},
   "outputs": [],
   "source": [
    "import re\n",
    "\n",
    "regex = re.compile(str(year) + \"_\" + str(round_number) + '_R_telem_all')"
   ]
  },
  {
   "cell_type": "code",
   "execution_count": 29,
   "id": "0fa5e6bf",
   "metadata": {},
   "outputs": [
    {
     "name": "stdout",
     "output_type": "stream",
     "text": [
      "['timing_data\\\\2022_7_R_telem_all.csv']\n"
     ]
    }
   ],
   "source": [
    "# Get path of files that match the regex\n",
    "for root, dirs, files in os.walk('timing_data'):\n",
    "  l = [os.path.join(root,x) for x in files if regex.match(x)]\n",
    "  if l: print(l)"
   ]
  },
  {
   "cell_type": "code",
   "execution_count": 30,
   "id": "89811354",
   "metadata": {},
   "outputs": [],
   "source": [
    "import pandas as pd\n",
    "import numpy as np"
   ]
  },
  {
   "cell_type": "code",
   "execution_count": 31,
   "id": "8f3355f6",
   "metadata": {},
   "outputs": [],
   "source": [
    "race_path = l[0]"
   ]
  },
  {
   "cell_type": "code",
   "execution_count": 32,
   "id": "a09e3714",
   "metadata": {},
   "outputs": [],
   "source": [
    "df = pd.read_csv(race_path)"
   ]
  },
  {
   "cell_type": "code",
   "execution_count": 33,
   "id": "38f9d058",
   "metadata": {},
   "outputs": [
    {
     "data": {
      "text/html": [
       "<div>\n",
       "<style scoped>\n",
       "    .dataframe tbody tr th:only-of-type {\n",
       "        vertical-align: middle;\n",
       "    }\n",
       "\n",
       "    .dataframe tbody tr th {\n",
       "        vertical-align: top;\n",
       "    }\n",
       "\n",
       "    .dataframe thead th {\n",
       "        text-align: right;\n",
       "    }\n",
       "</style>\n",
       "<table border=\"1\" class=\"dataframe\">\n",
       "  <thead>\n",
       "    <tr style=\"text-align: right;\">\n",
       "      <th></th>\n",
       "      <th>Date</th>\n",
       "      <th>RPM</th>\n",
       "      <th>Speed</th>\n",
       "      <th>nGear</th>\n",
       "      <th>Throttle</th>\n",
       "      <th>Brake</th>\n",
       "      <th>DRS</th>\n",
       "      <th>Source</th>\n",
       "      <th>Time</th>\n",
       "      <th>SessionTime</th>\n",
       "      <th>Distance</th>\n",
       "      <th>Driver</th>\n",
       "      <th>Team</th>\n",
       "      <th>Lap</th>\n",
       "    </tr>\n",
       "  </thead>\n",
       "  <tbody>\n",
       "    <tr>\n",
       "      <th>0</th>\n",
       "      <td>2022-05-29 14:36:38.413</td>\n",
       "      <td>11904</td>\n",
       "      <td>257</td>\n",
       "      <td>6</td>\n",
       "      <td>100</td>\n",
       "      <td>True</td>\n",
       "      <td>1</td>\n",
       "      <td>car</td>\n",
       "      <td>0 days 00:00:00.165000</td>\n",
       "      <td>0 days 02:35:38.392000</td>\n",
       "      <td>11.779167</td>\n",
       "      <td>MAG</td>\n",
       "      <td>Haas F1 Team</td>\n",
       "      <td>17</td>\n",
       "    </tr>\n",
       "    <tr>\n",
       "      <th>1</th>\n",
       "      <td>2022-05-29 14:36:38.613</td>\n",
       "      <td>11454</td>\n",
       "      <td>256</td>\n",
       "      <td>6</td>\n",
       "      <td>2</td>\n",
       "      <td>True</td>\n",
       "      <td>1</td>\n",
       "      <td>car</td>\n",
       "      <td>0 days 00:00:00.365000</td>\n",
       "      <td>0 days 02:35:38.592000</td>\n",
       "      <td>26.001389</td>\n",
       "      <td>MAG</td>\n",
       "      <td>Haas F1 Team</td>\n",
       "      <td>17</td>\n",
       "    </tr>\n",
       "    <tr>\n",
       "      <th>2</th>\n",
       "      <td>2022-05-29 14:36:38.853</td>\n",
       "      <td>10614</td>\n",
       "      <td>240</td>\n",
       "      <td>6</td>\n",
       "      <td>0</td>\n",
       "      <td>True</td>\n",
       "      <td>1</td>\n",
       "      <td>car</td>\n",
       "      <td>0 days 00:00:00.605000</td>\n",
       "      <td>0 days 02:35:38.832000</td>\n",
       "      <td>42.001389</td>\n",
       "      <td>MAG</td>\n",
       "      <td>Haas F1 Team</td>\n",
       "      <td>17</td>\n",
       "    </tr>\n",
       "    <tr>\n",
       "      <th>3</th>\n",
       "      <td>2022-05-29 14:36:39.133</td>\n",
       "      <td>9688</td>\n",
       "      <td>225</td>\n",
       "      <td>6</td>\n",
       "      <td>0</td>\n",
       "      <td>True</td>\n",
       "      <td>1</td>\n",
       "      <td>car</td>\n",
       "      <td>0 days 00:00:00.885000</td>\n",
       "      <td>0 days 02:35:39.112000</td>\n",
       "      <td>59.501389</td>\n",
       "      <td>MAG</td>\n",
       "      <td>Haas F1 Team</td>\n",
       "      <td>17</td>\n",
       "    </tr>\n",
       "    <tr>\n",
       "      <th>4</th>\n",
       "      <td>2022-05-29 14:36:39.573</td>\n",
       "      <td>9829</td>\n",
       "      <td>193</td>\n",
       "      <td>6</td>\n",
       "      <td>0</td>\n",
       "      <td>True</td>\n",
       "      <td>1</td>\n",
       "      <td>car</td>\n",
       "      <td>0 days 00:00:01.325000</td>\n",
       "      <td>0 days 02:35:39.552000</td>\n",
       "      <td>83.090278</td>\n",
       "      <td>MAG</td>\n",
       "      <td>Haas F1 Team</td>\n",
       "      <td>17</td>\n",
       "    </tr>\n",
       "  </tbody>\n",
       "</table>\n",
       "</div>"
      ],
      "text/plain": [
       "                      Date    RPM  Speed  nGear  Throttle  Brake  DRS Source  \\\n",
       "0  2022-05-29 14:36:38.413  11904    257      6       100   True    1    car   \n",
       "1  2022-05-29 14:36:38.613  11454    256      6         2   True    1    car   \n",
       "2  2022-05-29 14:36:38.853  10614    240      6         0   True    1    car   \n",
       "3  2022-05-29 14:36:39.133   9688    225      6         0   True    1    car   \n",
       "4  2022-05-29 14:36:39.573   9829    193      6         0   True    1    car   \n",
       "\n",
       "                     Time             SessionTime   Distance Driver  \\\n",
       "0  0 days 00:00:00.165000  0 days 02:35:38.392000  11.779167    MAG   \n",
       "1  0 days 00:00:00.365000  0 days 02:35:38.592000  26.001389    MAG   \n",
       "2  0 days 00:00:00.605000  0 days 02:35:38.832000  42.001389    MAG   \n",
       "3  0 days 00:00:00.885000  0 days 02:35:39.112000  59.501389    MAG   \n",
       "4  0 days 00:00:01.325000  0 days 02:35:39.552000  83.090278    MAG   \n",
       "\n",
       "           Team  Lap  \n",
       "0  Haas F1 Team   17  \n",
       "1  Haas F1 Team   17  \n",
       "2  Haas F1 Team   17  \n",
       "3  Haas F1 Team   17  \n",
       "4  Haas F1 Team   17  "
      ]
     },
     "execution_count": 33,
     "metadata": {},
     "output_type": "execute_result"
    }
   ],
   "source": [
    "df.head()"
   ]
  },
  {
   "cell_type": "code",
   "execution_count": 34,
   "id": "a2a6a1df",
   "metadata": {},
   "outputs": [],
   "source": [
    "import plotly.express as px"
   ]
  },
  {
   "cell_type": "code",
   "execution_count": 35,
   "id": "bac2b289",
   "metadata": {},
   "outputs": [
    {
     "data": {
      "text/plain": [
       "Index(['Date', 'RPM', 'Speed', 'nGear', 'Throttle', 'Brake', 'DRS', 'Source',\n",
       "       'Time', 'SessionTime', 'Distance', 'Driver', 'Team', 'Lap'],\n",
       "      dtype='object')"
      ]
     },
     "execution_count": 35,
     "metadata": {},
     "output_type": "execute_result"
    }
   ],
   "source": [
    "df.columns"
   ]
  },
  {
   "cell_type": "code",
   "execution_count": 36,
   "id": "3ee241b2",
   "metadata": {},
   "outputs": [
    {
     "name": "stdout",
     "output_type": "stream",
     "text": [
      "['timing_data\\\\2022_7_R_laps.csv']\n"
     ]
    }
   ],
   "source": [
    "regex = re.compile(str(year) + \"_\" + str(round_number) + '_R_laps')\n",
    "\n",
    "# Get path of files that match the regex\n",
    "for root, dirs, files in os.walk('timing_data'):\n",
    "  l = [os.path.join(root,x) for x in files if regex.match(x)]\n",
    "  if l: print(l)\n",
    "\n",
    "laps_path = l[0]        \n",
    "\n",
    "df_laps = pd.read_csv(laps_path)"
   ]
  },
  {
   "cell_type": "code",
   "execution_count": 37,
   "id": "9d8b04a6",
   "metadata": {},
   "outputs": [
    {
     "data": {
      "text/plain": [
       "Index(['Time', 'DriverNumber', 'LapTime', 'LapNumber', 'Stint', 'PitOutTime',\n",
       "       'PitInTime', 'Sector1Time', 'Sector2Time', 'Sector3Time',\n",
       "       'Sector1SessionTime', 'Sector2SessionTime', 'Sector3SessionTime',\n",
       "       'SpeedI1', 'SpeedI2', 'SpeedFL', 'SpeedST', 'IsPersonalBest',\n",
       "       'Compound', 'TyreLife', 'FreshTyre', 'LapStartTime', 'Team', 'Driver',\n",
       "       'TrackStatus', 'IsAccurate'],\n",
       "      dtype='object')"
      ]
     },
     "execution_count": 37,
     "metadata": {},
     "output_type": "execute_result"
    }
   ],
   "source": [
    "df_laps.columns"
   ]
  },
  {
   "cell_type": "code",
   "execution_count": 49,
   "id": "8bb798bf",
   "metadata": {},
   "outputs": [
    {
     "ename": "TypeError",
     "evalue": "match() missing 1 required positional argument: 'string'",
     "output_type": "error",
     "traceback": [
      "\u001b[1;31m---------------------------------------------------------------------------\u001b[0m",
      "\u001b[1;31mTypeError\u001b[0m                                 Traceback (most recent call last)",
      "Input \u001b[1;32mIn [49]\u001b[0m, in \u001b[0;36m<cell line: 3>\u001b[1;34m()\u001b[0m\n\u001b[0;32m      1\u001b[0m \u001b[38;5;66;03m# convert LapTime from string to float\u001b[39;00m\n\u001b[0;32m      2\u001b[0m ms_regex \u001b[38;5;241m=\u001b[39m re\u001b[38;5;241m.\u001b[39mcompile(\u001b[38;5;124m'\u001b[39m\u001b[38;5;124m\\\u001b[39m\u001b[38;5;124m.[0-9]+$\u001b[39m\u001b[38;5;124m'\u001b[39m)\n\u001b[1;32m----> 3\u001b[0m \u001b[43mre\u001b[49m\u001b[38;5;241;43m.\u001b[39;49m\u001b[43mmatch\u001b[49m\u001b[43m(\u001b[49m\u001b[43mdf_laps\u001b[49m\u001b[43m[\u001b[49m\u001b[38;5;124;43m'\u001b[39;49m\u001b[38;5;124;43mLapTime\u001b[39;49m\u001b[38;5;124;43m'\u001b[39;49m\u001b[43m]\u001b[49m\u001b[43m)\u001b[49m\n",
      "\u001b[1;31mTypeError\u001b[0m: match() missing 1 required positional argument: 'string'"
     ]
    }
   ],
   "source": [
    "# convert LapTime from string to float\n",
    "ms_regex = re.compile('\\.[0-9]+$')\n",
    "re.match(df_laps['LapTime'])"
   ]
  },
  {
   "cell_type": "code",
   "execution_count": 52,
   "id": "c7223cc7",
   "metadata": {},
   "outputs": [],
   "source": [
    "df_laps['ms'] = df_laps['LapTime'].str.extract(r'(\\.[0-9]+$)')"
   ]
  },
  {
   "cell_type": "code",
   "execution_count": 54,
   "id": "31be5c7c",
   "metadata": {},
   "outputs": [],
   "source": [
    "df_laps['secs'] = df_laps['LapTime'].str.extract(r'([0-9]+)\\.')"
   ]
  },
  {
   "cell_type": "code",
   "execution_count": 56,
   "id": "24d2ac07",
   "metadata": {},
   "outputs": [],
   "source": [
    "df_laps['mins'] = df_laps['LapTime'].str.extract(r'\\:([0-9]+)\\:')"
   ]
  },
  {
   "cell_type": "code",
   "execution_count": 68,
   "id": "be5f6159",
   "metadata": {},
   "outputs": [],
   "source": [
    "df_laps['LapTimeinSeconds'] = df_laps['mins'].astype(float)*60 + df_laps['secs'].astype(float) + df_laps['ms'].astype(float)"
   ]
  },
  {
   "cell_type": "code",
   "execution_count": 73,
   "id": "aa20872c",
   "metadata": {
    "scrolled": true
   },
   "outputs": [
    {
     "data": {
      "text/html": [
       "<div>\n",
       "<style scoped>\n",
       "    .dataframe tbody tr th:only-of-type {\n",
       "        vertical-align: middle;\n",
       "    }\n",
       "\n",
       "    .dataframe tbody tr th {\n",
       "        vertical-align: top;\n",
       "    }\n",
       "\n",
       "    .dataframe thead th {\n",
       "        text-align: right;\n",
       "    }\n",
       "</style>\n",
       "<table border=\"1\" class=\"dataframe\">\n",
       "  <thead>\n",
       "    <tr style=\"text-align: right;\">\n",
       "      <th></th>\n",
       "      <th></th>\n",
       "      <th>DriverNumber</th>\n",
       "      <th>Stint</th>\n",
       "      <th>SpeedI1</th>\n",
       "      <th>SpeedI2</th>\n",
       "      <th>SpeedFL</th>\n",
       "      <th>SpeedST</th>\n",
       "      <th>TyreLife</th>\n",
       "      <th>TrackStatus</th>\n",
       "      <th>IsAccurate</th>\n",
       "      <th>LapTimeinSeconds</th>\n",
       "    </tr>\n",
       "    <tr>\n",
       "      <th>LapNumber</th>\n",
       "      <th>Compound</th>\n",
       "      <th></th>\n",
       "      <th></th>\n",
       "      <th></th>\n",
       "      <th></th>\n",
       "      <th></th>\n",
       "      <th></th>\n",
       "      <th></th>\n",
       "      <th></th>\n",
       "      <th></th>\n",
       "      <th></th>\n",
       "    </tr>\n",
       "  </thead>\n",
       "  <tbody>\n",
       "    <tr>\n",
       "      <th>1</th>\n",
       "      <th>WET</th>\n",
       "      <td>24.700000</td>\n",
       "      <td>2.850000</td>\n",
       "      <td>110.950000</td>\n",
       "      <td>114.150000</td>\n",
       "      <td>163.777778</td>\n",
       "      <td>165.850000</td>\n",
       "      <td>1.000000</td>\n",
       "      <td>4.2</td>\n",
       "      <td>0.0</td>\n",
       "      <td>NaN</td>\n",
       "    </tr>\n",
       "    <tr>\n",
       "      <th rowspan=\"2\" valign=\"top\">2</th>\n",
       "      <th>INTERMEDIATE</th>\n",
       "      <td>24.600000</td>\n",
       "      <td>2.800000</td>\n",
       "      <td>94.600000</td>\n",
       "      <td>120.800000</td>\n",
       "      <td>211.500000</td>\n",
       "      <td>155.200000</td>\n",
       "      <td>NaN</td>\n",
       "      <td>4.0</td>\n",
       "      <td>0.0</td>\n",
       "      <td>134.787750</td>\n",
       "    </tr>\n",
       "    <tr>\n",
       "      <th>WET</th>\n",
       "      <td>24.733333</td>\n",
       "      <td>3.000000</td>\n",
       "      <td>98.400000</td>\n",
       "      <td>120.466667</td>\n",
       "      <td>206.846154</td>\n",
       "      <td>147.533333</td>\n",
       "      <td>1.933333</td>\n",
       "      <td>4.0</td>\n",
       "      <td>0.0</td>\n",
       "      <td>136.156400</td>\n",
       "    </tr>\n",
       "    <tr>\n",
       "      <th rowspan=\"2\" valign=\"top\">3</th>\n",
       "      <th>INTERMEDIATE</th>\n",
       "      <td>21.500000</td>\n",
       "      <td>3.166667</td>\n",
       "      <td>131.833333</td>\n",
       "      <td>130.666667</td>\n",
       "      <td>229.000000</td>\n",
       "      <td>236.833333</td>\n",
       "      <td>1.000000</td>\n",
       "      <td>1.0</td>\n",
       "      <td>0.0</td>\n",
       "      <td>106.107333</td>\n",
       "    </tr>\n",
       "    <tr>\n",
       "      <th>WET</th>\n",
       "      <td>26.071429</td>\n",
       "      <td>3.071429</td>\n",
       "      <td>126.642857</td>\n",
       "      <td>130.000000</td>\n",
       "      <td>227.071429</td>\n",
       "      <td>222.785714</td>\n",
       "      <td>2.857143</td>\n",
       "      <td>1.0</td>\n",
       "      <td>0.0</td>\n",
       "      <td>107.422143</td>\n",
       "    </tr>\n",
       "  </tbody>\n",
       "</table>\n",
       "</div>"
      ],
      "text/plain": [
       "                        DriverNumber     Stint     SpeedI1     SpeedI2  \\\n",
       "LapNumber Compound                                                       \n",
       "1         WET              24.700000  2.850000  110.950000  114.150000   \n",
       "2         INTERMEDIATE     24.600000  2.800000   94.600000  120.800000   \n",
       "          WET              24.733333  3.000000   98.400000  120.466667   \n",
       "3         INTERMEDIATE     21.500000  3.166667  131.833333  130.666667   \n",
       "          WET              26.071429  3.071429  126.642857  130.000000   \n",
       "\n",
       "                           SpeedFL     SpeedST  TyreLife  TrackStatus  \\\n",
       "LapNumber Compound                                                      \n",
       "1         WET           163.777778  165.850000  1.000000          4.2   \n",
       "2         INTERMEDIATE  211.500000  155.200000       NaN          4.0   \n",
       "          WET           206.846154  147.533333  1.933333          4.0   \n",
       "3         INTERMEDIATE  229.000000  236.833333  1.000000          1.0   \n",
       "          WET           227.071429  222.785714  2.857143          1.0   \n",
       "\n",
       "                        IsAccurate  LapTimeinSeconds  \n",
       "LapNumber Compound                                    \n",
       "1         WET                  0.0               NaN  \n",
       "2         INTERMEDIATE         0.0        134.787750  \n",
       "          WET                  0.0        136.156400  \n",
       "3         INTERMEDIATE         0.0        106.107333  \n",
       "          WET                  0.0        107.422143  "
      ]
     },
     "execution_count": 73,
     "metadata": {},
     "output_type": "execute_result"
    }
   ],
   "source": [
    "# group avg. laptimes for plotting\n",
    "df_laps_plot = df_laps.groupby(['LapNumber', 'Compound']).mean()\n",
    "\n",
    "df_laps_plot.head()"
   ]
  },
  {
   "cell_type": "code",
   "execution_count": 97,
   "id": "c33862f6",
   "metadata": {},
   "outputs": [],
   "source": [
    "df_laps_plot.columns\n",
    "\n",
    "df_laps_plot.index\n",
    "\n",
    "df_laps_plot = df_laps_plot.reset_index(drop = False)"
   ]
  },
  {
   "cell_type": "code",
   "execution_count": 116,
   "id": "3e5b0963",
   "metadata": {},
   "outputs": [
    {
     "data": {
      "application/vnd.plotly.v1+json": {
       "config": {
        "plotlyServerURL": "https://plot.ly"
       },
       "data": [
        {
         "hovertemplate": "Compound=WET<br>Lap Number=%{x}<br>Lap Time (s)=%{y}<extra></extra>",
         "legendgroup": "WET",
         "line": {
          "color": "rgb(136, 204, 238)",
          "dash": "solid"
         },
         "marker": {
          "symbol": "circle"
         },
         "mode": "lines",
         "name": "WET",
         "orientation": "v",
         "showlegend": true,
         "type": "scatter",
         "x": [
          1,
          2,
          3,
          4,
          5,
          6,
          7,
          8,
          9,
          10,
          11,
          12,
          13,
          14,
          15,
          16,
          17,
          18,
          19,
          20,
          21,
          22
         ],
         "xaxis": "x",
         "y": [
          null,
          136.1564,
          107.42214285714286,
          105.2282857142857,
          102.05038461538462,
          104.50169230769231,
          99.76146666666666,
          99.19893333333333,
          98.54400000000001,
          97.99185714285714,
          97.73035714285713,
          96.88257142857142,
          96.05135714285714,
          95.0077857142857,
          95.43257142857144,
          95.09884615384615,
          95.16041666666666,
          98.54945454545454,
          98.20125,
          95.1514,
          103.98519999999999,
          92.84100000000001
         ],
         "yaxis": "y"
        },
        {
         "hovertemplate": "Compound=INTERMEDIATE<br>Lap Number=%{x}<br>Lap Time (s)=%{y}<extra></extra>",
         "legendgroup": "INTERMEDIATE",
         "line": {
          "color": "rgb(204, 102, 119)",
          "dash": "solid"
         },
         "marker": {
          "symbol": "circle"
         },
         "mode": "lines",
         "name": "INTERMEDIATE",
         "orientation": "v",
         "showlegend": true,
         "type": "scatter",
         "x": [
          2,
          3,
          4,
          5,
          6,
          7,
          8,
          9,
          10,
          11,
          12,
          13,
          14,
          15,
          16,
          17,
          18,
          19,
          20,
          21,
          22,
          23,
          24
         ],
         "xaxis": "x",
         "y": [
          134.78775,
          106.10733333333333,
          103.56616666666667,
          101.65528571428571,
          100.28,
          101.09819999999999,
          99.58420000000001,
          98.0174,
          98.731,
          97.4285,
          97.33749999999999,
          97.18933333333332,
          95.2745,
          95.21300000000001,
          94.71542857142857,
          97.72125,
          92.936375,
          93.1292,
          89.02855555555556,
          94.253375,
          103.62400000000001,
          97.584,
          105.702
         ],
         "yaxis": "y"
        },
        {
         "hovertemplate": "Compound=HARD<br>Lap Number=%{x}<br>Lap Time (s)=%{y}<extra></extra>",
         "legendgroup": "HARD",
         "line": {
          "color": "rgb(221, 204, 119)",
          "dash": "solid"
         },
         "marker": {
          "symbol": "circle"
         },
         "mode": "lines",
         "name": "HARD",
         "orientation": "v",
         "showlegend": true,
         "type": "scatter",
         "x": [
          18,
          19,
          20,
          21,
          22,
          23,
          24,
          25,
          26,
          27,
          28,
          29,
          30,
          31,
          32,
          33,
          34,
          35,
          36,
          37,
          38,
          39,
          40,
          41,
          42,
          43,
          44,
          45,
          46,
          47,
          48,
          49,
          50,
          51,
          52,
          53,
          54,
          55,
          56,
          57,
          58,
          59,
          60,
          61,
          62,
          63,
          64
         ],
         "xaxis": "x",
         "y": [
          98.024,
          90.50450000000001,
          97.7696,
          92.09983333333334,
          95.84389999999999,
          88.976,
          85.37352941176471,
          85.15723529411764,
          102.654,
          118.18441176470589,
          118.90894117647059,
          108.21484615384614,
          103.833,
          127.137,
          113.622625,
          84.447375,
          82.328625,
          81.48975,
          81.1465,
          80.527125,
          79.95337500000001,
          79.436625,
          78.970375,
          78.96275,
          78.79237499999999,
          78.401875,
          78.492875,
          78.563625,
          78.308625,
          78.243,
          78.047625,
          78.1735,
          78.1615,
          80.052625,
          77.90414285714284,
          77.78857142857143,
          77.84914285714285,
          77.92642857142857,
          78.15214285714286,
          78.12042857142856,
          78.30871428571429,
          78.20157142857143,
          78.14514285714286,
          78.14642857142857,
          78.20128571428572,
          78.17314285714285,
          78.378
         ],
         "yaxis": "y"
        },
        {
         "hovertemplate": "Compound=MEDIUM<br>Lap Number=%{x}<br>Lap Time (s)=%{y}<extra></extra>",
         "legendgroup": "MEDIUM",
         "line": {
          "color": "rgb(17, 119, 51)",
          "dash": "solid"
         },
         "marker": {
          "symbol": "circle"
         },
         "mode": "lines",
         "name": "MEDIUM",
         "orientation": "v",
         "showlegend": true,
         "type": "scatter",
         "x": [
          23,
          24,
          25,
          26,
          27,
          28,
          29,
          30,
          31,
          32,
          33,
          34,
          35,
          36,
          37,
          38,
          39,
          40,
          41,
          42,
          43,
          44,
          45,
          46,
          47,
          48,
          49,
          50,
          51,
          52,
          53,
          54,
          55,
          56,
          57,
          58,
          59,
          60,
          61,
          62,
          63,
          64
         ],
         "xaxis": "x",
         "y": [
          93.811,
          83.506,
          101.078,
          116.315,
          111.993,
          98.218,
          null,
          106.79566666666666,
          114.60137499999999,
          106.571,
          83.6593,
          82.03240000000001,
          81.28720000000001,
          80.7705,
          80.3655,
          79.8137,
          79.1971,
          78.85510000000001,
          78.7697,
          78.88550000000001,
          78.53659999999999,
          78.7404,
          78.52799999999999,
          78.4239,
          78.33709999999999,
          78.474,
          79.30277777777778,
          77.78444444444443,
          77.96077777777778,
          78.7697,
          78.46180000000001,
          78.1918,
          78.19149999999999,
          81.5684,
          78.36333333333333,
          78.56633333333333,
          78.28766666666667,
          78.64433333333334,
          79.07788888888889,
          78.08277777777778,
          78.17022222222222,
          78.31716666666667
         ],
         "yaxis": "y"
        },
        {
         "hovertemplate": "Compound=SOFT<br>Lap Number=%{x}<br>Lap Time (s)=%{y}<extra></extra>",
         "legendgroup": "SOFT",
         "line": {
          "color": "rgb(51, 34, 136)",
          "dash": "solid"
         },
         "marker": {
          "symbol": "circle"
         },
         "mode": "lines",
         "name": "SOFT",
         "orientation": "v",
         "showlegend": true,
         "type": "scatter",
         "x": [
          57,
          58,
          59,
          60,
          61,
          62,
          63
         ],
         "xaxis": "x",
         "y": [
          84.996,
          76.055,
          89.445,
          75.979,
          75.334,
          77.66,
          75.7
         ],
         "yaxis": "y"
        }
       ],
       "layout": {
        "legend": {
         "title": {
          "text": "Compound"
         },
         "tracegroupgap": 0
        },
        "template": {
         "data": {
          "bar": [
           {
            "error_x": {
             "color": "#2a3f5f"
            },
            "error_y": {
             "color": "#2a3f5f"
            },
            "marker": {
             "line": {
              "color": "white",
              "width": 0.5
             },
             "pattern": {
              "fillmode": "overlay",
              "size": 10,
              "solidity": 0.2
             }
            },
            "type": "bar"
           }
          ],
          "barpolar": [
           {
            "marker": {
             "line": {
              "color": "white",
              "width": 0.5
             },
             "pattern": {
              "fillmode": "overlay",
              "size": 10,
              "solidity": 0.2
             }
            },
            "type": "barpolar"
           }
          ],
          "carpet": [
           {
            "aaxis": {
             "endlinecolor": "#2a3f5f",
             "gridcolor": "#C8D4E3",
             "linecolor": "#C8D4E3",
             "minorgridcolor": "#C8D4E3",
             "startlinecolor": "#2a3f5f"
            },
            "baxis": {
             "endlinecolor": "#2a3f5f",
             "gridcolor": "#C8D4E3",
             "linecolor": "#C8D4E3",
             "minorgridcolor": "#C8D4E3",
             "startlinecolor": "#2a3f5f"
            },
            "type": "carpet"
           }
          ],
          "choropleth": [
           {
            "colorbar": {
             "outlinewidth": 0,
             "ticks": ""
            },
            "type": "choropleth"
           }
          ],
          "contour": [
           {
            "colorbar": {
             "outlinewidth": 0,
             "ticks": ""
            },
            "colorscale": [
             [
              0,
              "#0d0887"
             ],
             [
              0.1111111111111111,
              "#46039f"
             ],
             [
              0.2222222222222222,
              "#7201a8"
             ],
             [
              0.3333333333333333,
              "#9c179e"
             ],
             [
              0.4444444444444444,
              "#bd3786"
             ],
             [
              0.5555555555555556,
              "#d8576b"
             ],
             [
              0.6666666666666666,
              "#ed7953"
             ],
             [
              0.7777777777777778,
              "#fb9f3a"
             ],
             [
              0.8888888888888888,
              "#fdca26"
             ],
             [
              1,
              "#f0f921"
             ]
            ],
            "type": "contour"
           }
          ],
          "contourcarpet": [
           {
            "colorbar": {
             "outlinewidth": 0,
             "ticks": ""
            },
            "type": "contourcarpet"
           }
          ],
          "heatmap": [
           {
            "colorbar": {
             "outlinewidth": 0,
             "ticks": ""
            },
            "colorscale": [
             [
              0,
              "#0d0887"
             ],
             [
              0.1111111111111111,
              "#46039f"
             ],
             [
              0.2222222222222222,
              "#7201a8"
             ],
             [
              0.3333333333333333,
              "#9c179e"
             ],
             [
              0.4444444444444444,
              "#bd3786"
             ],
             [
              0.5555555555555556,
              "#d8576b"
             ],
             [
              0.6666666666666666,
              "#ed7953"
             ],
             [
              0.7777777777777778,
              "#fb9f3a"
             ],
             [
              0.8888888888888888,
              "#fdca26"
             ],
             [
              1,
              "#f0f921"
             ]
            ],
            "type": "heatmap"
           }
          ],
          "heatmapgl": [
           {
            "colorbar": {
             "outlinewidth": 0,
             "ticks": ""
            },
            "colorscale": [
             [
              0,
              "#0d0887"
             ],
             [
              0.1111111111111111,
              "#46039f"
             ],
             [
              0.2222222222222222,
              "#7201a8"
             ],
             [
              0.3333333333333333,
              "#9c179e"
             ],
             [
              0.4444444444444444,
              "#bd3786"
             ],
             [
              0.5555555555555556,
              "#d8576b"
             ],
             [
              0.6666666666666666,
              "#ed7953"
             ],
             [
              0.7777777777777778,
              "#fb9f3a"
             ],
             [
              0.8888888888888888,
              "#fdca26"
             ],
             [
              1,
              "#f0f921"
             ]
            ],
            "type": "heatmapgl"
           }
          ],
          "histogram": [
           {
            "marker": {
             "pattern": {
              "fillmode": "overlay",
              "size": 10,
              "solidity": 0.2
             }
            },
            "type": "histogram"
           }
          ],
          "histogram2d": [
           {
            "colorbar": {
             "outlinewidth": 0,
             "ticks": ""
            },
            "colorscale": [
             [
              0,
              "#0d0887"
             ],
             [
              0.1111111111111111,
              "#46039f"
             ],
             [
              0.2222222222222222,
              "#7201a8"
             ],
             [
              0.3333333333333333,
              "#9c179e"
             ],
             [
              0.4444444444444444,
              "#bd3786"
             ],
             [
              0.5555555555555556,
              "#d8576b"
             ],
             [
              0.6666666666666666,
              "#ed7953"
             ],
             [
              0.7777777777777778,
              "#fb9f3a"
             ],
             [
              0.8888888888888888,
              "#fdca26"
             ],
             [
              1,
              "#f0f921"
             ]
            ],
            "type": "histogram2d"
           }
          ],
          "histogram2dcontour": [
           {
            "colorbar": {
             "outlinewidth": 0,
             "ticks": ""
            },
            "colorscale": [
             [
              0,
              "#0d0887"
             ],
             [
              0.1111111111111111,
              "#46039f"
             ],
             [
              0.2222222222222222,
              "#7201a8"
             ],
             [
              0.3333333333333333,
              "#9c179e"
             ],
             [
              0.4444444444444444,
              "#bd3786"
             ],
             [
              0.5555555555555556,
              "#d8576b"
             ],
             [
              0.6666666666666666,
              "#ed7953"
             ],
             [
              0.7777777777777778,
              "#fb9f3a"
             ],
             [
              0.8888888888888888,
              "#fdca26"
             ],
             [
              1,
              "#f0f921"
             ]
            ],
            "type": "histogram2dcontour"
           }
          ],
          "mesh3d": [
           {
            "colorbar": {
             "outlinewidth": 0,
             "ticks": ""
            },
            "type": "mesh3d"
           }
          ],
          "parcoords": [
           {
            "line": {
             "colorbar": {
              "outlinewidth": 0,
              "ticks": ""
             }
            },
            "type": "parcoords"
           }
          ],
          "pie": [
           {
            "automargin": true,
            "type": "pie"
           }
          ],
          "scatter": [
           {
            "fillpattern": {
             "fillmode": "overlay",
             "size": 10,
             "solidity": 0.2
            },
            "type": "scatter"
           }
          ],
          "scatter3d": [
           {
            "line": {
             "colorbar": {
              "outlinewidth": 0,
              "ticks": ""
             }
            },
            "marker": {
             "colorbar": {
              "outlinewidth": 0,
              "ticks": ""
             }
            },
            "type": "scatter3d"
           }
          ],
          "scattercarpet": [
           {
            "marker": {
             "colorbar": {
              "outlinewidth": 0,
              "ticks": ""
             }
            },
            "type": "scattercarpet"
           }
          ],
          "scattergeo": [
           {
            "marker": {
             "colorbar": {
              "outlinewidth": 0,
              "ticks": ""
             }
            },
            "type": "scattergeo"
           }
          ],
          "scattergl": [
           {
            "marker": {
             "colorbar": {
              "outlinewidth": 0,
              "ticks": ""
             }
            },
            "type": "scattergl"
           }
          ],
          "scattermapbox": [
           {
            "marker": {
             "colorbar": {
              "outlinewidth": 0,
              "ticks": ""
             }
            },
            "type": "scattermapbox"
           }
          ],
          "scatterpolar": [
           {
            "marker": {
             "colorbar": {
              "outlinewidth": 0,
              "ticks": ""
             }
            },
            "type": "scatterpolar"
           }
          ],
          "scatterpolargl": [
           {
            "marker": {
             "colorbar": {
              "outlinewidth": 0,
              "ticks": ""
             }
            },
            "type": "scatterpolargl"
           }
          ],
          "scatterternary": [
           {
            "marker": {
             "colorbar": {
              "outlinewidth": 0,
              "ticks": ""
             }
            },
            "type": "scatterternary"
           }
          ],
          "surface": [
           {
            "colorbar": {
             "outlinewidth": 0,
             "ticks": ""
            },
            "colorscale": [
             [
              0,
              "#0d0887"
             ],
             [
              0.1111111111111111,
              "#46039f"
             ],
             [
              0.2222222222222222,
              "#7201a8"
             ],
             [
              0.3333333333333333,
              "#9c179e"
             ],
             [
              0.4444444444444444,
              "#bd3786"
             ],
             [
              0.5555555555555556,
              "#d8576b"
             ],
             [
              0.6666666666666666,
              "#ed7953"
             ],
             [
              0.7777777777777778,
              "#fb9f3a"
             ],
             [
              0.8888888888888888,
              "#fdca26"
             ],
             [
              1,
              "#f0f921"
             ]
            ],
            "type": "surface"
           }
          ],
          "table": [
           {
            "cells": {
             "fill": {
              "color": "#EBF0F8"
             },
             "line": {
              "color": "white"
             }
            },
            "header": {
             "fill": {
              "color": "#C8D4E3"
             },
             "line": {
              "color": "white"
             }
            },
            "type": "table"
           }
          ]
         },
         "layout": {
          "annotationdefaults": {
           "arrowcolor": "#2a3f5f",
           "arrowhead": 0,
           "arrowwidth": 1
          },
          "autotypenumbers": "strict",
          "coloraxis": {
           "colorbar": {
            "outlinewidth": 0,
            "ticks": ""
           }
          },
          "colorscale": {
           "diverging": [
            [
             0,
             "#8e0152"
            ],
            [
             0.1,
             "#c51b7d"
            ],
            [
             0.2,
             "#de77ae"
            ],
            [
             0.3,
             "#f1b6da"
            ],
            [
             0.4,
             "#fde0ef"
            ],
            [
             0.5,
             "#f7f7f7"
            ],
            [
             0.6,
             "#e6f5d0"
            ],
            [
             0.7,
             "#b8e186"
            ],
            [
             0.8,
             "#7fbc41"
            ],
            [
             0.9,
             "#4d9221"
            ],
            [
             1,
             "#276419"
            ]
           ],
           "sequential": [
            [
             0,
             "#0d0887"
            ],
            [
             0.1111111111111111,
             "#46039f"
            ],
            [
             0.2222222222222222,
             "#7201a8"
            ],
            [
             0.3333333333333333,
             "#9c179e"
            ],
            [
             0.4444444444444444,
             "#bd3786"
            ],
            [
             0.5555555555555556,
             "#d8576b"
            ],
            [
             0.6666666666666666,
             "#ed7953"
            ],
            [
             0.7777777777777778,
             "#fb9f3a"
            ],
            [
             0.8888888888888888,
             "#fdca26"
            ],
            [
             1,
             "#f0f921"
            ]
           ],
           "sequentialminus": [
            [
             0,
             "#0d0887"
            ],
            [
             0.1111111111111111,
             "#46039f"
            ],
            [
             0.2222222222222222,
             "#7201a8"
            ],
            [
             0.3333333333333333,
             "#9c179e"
            ],
            [
             0.4444444444444444,
             "#bd3786"
            ],
            [
             0.5555555555555556,
             "#d8576b"
            ],
            [
             0.6666666666666666,
             "#ed7953"
            ],
            [
             0.7777777777777778,
             "#fb9f3a"
            ],
            [
             0.8888888888888888,
             "#fdca26"
            ],
            [
             1,
             "#f0f921"
            ]
           ]
          },
          "colorway": [
           "#636efa",
           "#EF553B",
           "#00cc96",
           "#ab63fa",
           "#FFA15A",
           "#19d3f3",
           "#FF6692",
           "#B6E880",
           "#FF97FF",
           "#FECB52"
          ],
          "font": {
           "color": "#2a3f5f"
          },
          "geo": {
           "bgcolor": "white",
           "lakecolor": "white",
           "landcolor": "white",
           "showlakes": true,
           "showland": true,
           "subunitcolor": "#C8D4E3"
          },
          "hoverlabel": {
           "align": "left"
          },
          "hovermode": "closest",
          "mapbox": {
           "style": "light"
          },
          "paper_bgcolor": "white",
          "plot_bgcolor": "white",
          "polar": {
           "angularaxis": {
            "gridcolor": "#EBF0F8",
            "linecolor": "#EBF0F8",
            "ticks": ""
           },
           "bgcolor": "white",
           "radialaxis": {
            "gridcolor": "#EBF0F8",
            "linecolor": "#EBF0F8",
            "ticks": ""
           }
          },
          "scene": {
           "xaxis": {
            "backgroundcolor": "white",
            "gridcolor": "#DFE8F3",
            "gridwidth": 2,
            "linecolor": "#EBF0F8",
            "showbackground": true,
            "ticks": "",
            "zerolinecolor": "#EBF0F8"
           },
           "yaxis": {
            "backgroundcolor": "white",
            "gridcolor": "#DFE8F3",
            "gridwidth": 2,
            "linecolor": "#EBF0F8",
            "showbackground": true,
            "ticks": "",
            "zerolinecolor": "#EBF0F8"
           },
           "zaxis": {
            "backgroundcolor": "white",
            "gridcolor": "#DFE8F3",
            "gridwidth": 2,
            "linecolor": "#EBF0F8",
            "showbackground": true,
            "ticks": "",
            "zerolinecolor": "#EBF0F8"
           }
          },
          "shapedefaults": {
           "line": {
            "color": "#2a3f5f"
           }
          },
          "ternary": {
           "aaxis": {
            "gridcolor": "#DFE8F3",
            "linecolor": "#A2B1C6",
            "ticks": ""
           },
           "baxis": {
            "gridcolor": "#DFE8F3",
            "linecolor": "#A2B1C6",
            "ticks": ""
           },
           "bgcolor": "white",
           "caxis": {
            "gridcolor": "#DFE8F3",
            "linecolor": "#A2B1C6",
            "ticks": ""
           }
          },
          "title": {
           "x": 0.05
          },
          "xaxis": {
           "automargin": true,
           "gridcolor": "#EBF0F8",
           "linecolor": "#EBF0F8",
           "ticks": "",
           "title": {
            "standoff": 15
           },
           "zerolinecolor": "#EBF0F8",
           "zerolinewidth": 2
          },
          "yaxis": {
           "automargin": true,
           "gridcolor": "#EBF0F8",
           "linecolor": "#EBF0F8",
           "ticks": "",
           "title": {
            "standoff": 15
           },
           "zerolinecolor": "#EBF0F8",
           "zerolinewidth": 2
          }
         }
        },
        "title": {
         "text": "Lap Times (seconds) by Tire Compound"
        },
        "xaxis": {
         "anchor": "y",
         "domain": [
          0,
          1
         ],
         "title": {
          "text": "Lap Number"
         }
        },
        "yaxis": {
         "anchor": "x",
         "domain": [
          0,
          1
         ],
         "title": {
          "text": "Lap Time (s)"
         }
        }
       }
      },
      "text/html": [
       "<div>                            <div id=\"54fa73cd-d964-48f1-9086-1e67487acf71\" class=\"plotly-graph-div\" style=\"height:525px; width:100%;\"></div>            <script type=\"text/javascript\">                require([\"plotly\"], function(Plotly) {                    window.PLOTLYENV=window.PLOTLYENV || {};                                    if (document.getElementById(\"54fa73cd-d964-48f1-9086-1e67487acf71\")) {                    Plotly.newPlot(                        \"54fa73cd-d964-48f1-9086-1e67487acf71\",                        [{\"hovertemplate\":\"Compound=WET<br>Lap Number=%{x}<br>Lap Time (s)=%{y}<extra></extra>\",\"legendgroup\":\"WET\",\"line\":{\"color\":\"rgb(136, 204, 238)\",\"dash\":\"solid\"},\"marker\":{\"symbol\":\"circle\"},\"mode\":\"lines\",\"name\":\"WET\",\"orientation\":\"v\",\"showlegend\":true,\"x\":[1,2,3,4,5,6,7,8,9,10,11,12,13,14,15,16,17,18,19,20,21,22],\"xaxis\":\"x\",\"y\":[null,136.1564,107.42214285714286,105.2282857142857,102.05038461538462,104.50169230769231,99.76146666666666,99.19893333333333,98.54400000000001,97.99185714285714,97.73035714285713,96.88257142857142,96.05135714285714,95.0077857142857,95.43257142857144,95.09884615384615,95.16041666666666,98.54945454545454,98.20125,95.1514,103.98519999999999,92.84100000000001],\"yaxis\":\"y\",\"type\":\"scatter\"},{\"hovertemplate\":\"Compound=INTERMEDIATE<br>Lap Number=%{x}<br>Lap Time (s)=%{y}<extra></extra>\",\"legendgroup\":\"INTERMEDIATE\",\"line\":{\"color\":\"rgb(204, 102, 119)\",\"dash\":\"solid\"},\"marker\":{\"symbol\":\"circle\"},\"mode\":\"lines\",\"name\":\"INTERMEDIATE\",\"orientation\":\"v\",\"showlegend\":true,\"x\":[2,3,4,5,6,7,8,9,10,11,12,13,14,15,16,17,18,19,20,21,22,23,24],\"xaxis\":\"x\",\"y\":[134.78775,106.10733333333333,103.56616666666667,101.65528571428571,100.28,101.09819999999999,99.58420000000001,98.0174,98.731,97.4285,97.33749999999999,97.18933333333332,95.2745,95.21300000000001,94.71542857142857,97.72125,92.936375,93.1292,89.02855555555556,94.253375,103.62400000000001,97.584,105.702],\"yaxis\":\"y\",\"type\":\"scatter\"},{\"hovertemplate\":\"Compound=HARD<br>Lap Number=%{x}<br>Lap Time (s)=%{y}<extra></extra>\",\"legendgroup\":\"HARD\",\"line\":{\"color\":\"rgb(221, 204, 119)\",\"dash\":\"solid\"},\"marker\":{\"symbol\":\"circle\"},\"mode\":\"lines\",\"name\":\"HARD\",\"orientation\":\"v\",\"showlegend\":true,\"x\":[18,19,20,21,22,23,24,25,26,27,28,29,30,31,32,33,34,35,36,37,38,39,40,41,42,43,44,45,46,47,48,49,50,51,52,53,54,55,56,57,58,59,60,61,62,63,64],\"xaxis\":\"x\",\"y\":[98.024,90.50450000000001,97.7696,92.09983333333334,95.84389999999999,88.976,85.37352941176471,85.15723529411764,102.654,118.18441176470589,118.90894117647059,108.21484615384614,103.833,127.137,113.622625,84.447375,82.328625,81.48975,81.1465,80.527125,79.95337500000001,79.436625,78.970375,78.96275,78.79237499999999,78.401875,78.492875,78.563625,78.308625,78.243,78.047625,78.1735,78.1615,80.052625,77.90414285714284,77.78857142857143,77.84914285714285,77.92642857142857,78.15214285714286,78.12042857142856,78.30871428571429,78.20157142857143,78.14514285714286,78.14642857142857,78.20128571428572,78.17314285714285,78.378],\"yaxis\":\"y\",\"type\":\"scatter\"},{\"hovertemplate\":\"Compound=MEDIUM<br>Lap Number=%{x}<br>Lap Time (s)=%{y}<extra></extra>\",\"legendgroup\":\"MEDIUM\",\"line\":{\"color\":\"rgb(17, 119, 51)\",\"dash\":\"solid\"},\"marker\":{\"symbol\":\"circle\"},\"mode\":\"lines\",\"name\":\"MEDIUM\",\"orientation\":\"v\",\"showlegend\":true,\"x\":[23,24,25,26,27,28,29,30,31,32,33,34,35,36,37,38,39,40,41,42,43,44,45,46,47,48,49,50,51,52,53,54,55,56,57,58,59,60,61,62,63,64],\"xaxis\":\"x\",\"y\":[93.811,83.506,101.078,116.315,111.993,98.218,null,106.79566666666666,114.60137499999999,106.571,83.6593,82.03240000000001,81.28720000000001,80.7705,80.3655,79.8137,79.1971,78.85510000000001,78.7697,78.88550000000001,78.53659999999999,78.7404,78.52799999999999,78.4239,78.33709999999999,78.474,79.30277777777778,77.78444444444443,77.96077777777778,78.7697,78.46180000000001,78.1918,78.19149999999999,81.5684,78.36333333333333,78.56633333333333,78.28766666666667,78.64433333333334,79.07788888888889,78.08277777777778,78.17022222222222,78.31716666666667],\"yaxis\":\"y\",\"type\":\"scatter\"},{\"hovertemplate\":\"Compound=SOFT<br>Lap Number=%{x}<br>Lap Time (s)=%{y}<extra></extra>\",\"legendgroup\":\"SOFT\",\"line\":{\"color\":\"rgb(51, 34, 136)\",\"dash\":\"solid\"},\"marker\":{\"symbol\":\"circle\"},\"mode\":\"lines\",\"name\":\"SOFT\",\"orientation\":\"v\",\"showlegend\":true,\"x\":[57,58,59,60,61,62,63],\"xaxis\":\"x\",\"y\":[84.996,76.055,89.445,75.979,75.334,77.66,75.7],\"yaxis\":\"y\",\"type\":\"scatter\"}],                        {\"template\":{\"data\":{\"barpolar\":[{\"marker\":{\"line\":{\"color\":\"white\",\"width\":0.5},\"pattern\":{\"fillmode\":\"overlay\",\"size\":10,\"solidity\":0.2}},\"type\":\"barpolar\"}],\"bar\":[{\"error_x\":{\"color\":\"#2a3f5f\"},\"error_y\":{\"color\":\"#2a3f5f\"},\"marker\":{\"line\":{\"color\":\"white\",\"width\":0.5},\"pattern\":{\"fillmode\":\"overlay\",\"size\":10,\"solidity\":0.2}},\"type\":\"bar\"}],\"carpet\":[{\"aaxis\":{\"endlinecolor\":\"#2a3f5f\",\"gridcolor\":\"#C8D4E3\",\"linecolor\":\"#C8D4E3\",\"minorgridcolor\":\"#C8D4E3\",\"startlinecolor\":\"#2a3f5f\"},\"baxis\":{\"endlinecolor\":\"#2a3f5f\",\"gridcolor\":\"#C8D4E3\",\"linecolor\":\"#C8D4E3\",\"minorgridcolor\":\"#C8D4E3\",\"startlinecolor\":\"#2a3f5f\"},\"type\":\"carpet\"}],\"choropleth\":[{\"colorbar\":{\"outlinewidth\":0,\"ticks\":\"\"},\"type\":\"choropleth\"}],\"contourcarpet\":[{\"colorbar\":{\"outlinewidth\":0,\"ticks\":\"\"},\"type\":\"contourcarpet\"}],\"contour\":[{\"colorbar\":{\"outlinewidth\":0,\"ticks\":\"\"},\"colorscale\":[[0.0,\"#0d0887\"],[0.1111111111111111,\"#46039f\"],[0.2222222222222222,\"#7201a8\"],[0.3333333333333333,\"#9c179e\"],[0.4444444444444444,\"#bd3786\"],[0.5555555555555556,\"#d8576b\"],[0.6666666666666666,\"#ed7953\"],[0.7777777777777778,\"#fb9f3a\"],[0.8888888888888888,\"#fdca26\"],[1.0,\"#f0f921\"]],\"type\":\"contour\"}],\"heatmapgl\":[{\"colorbar\":{\"outlinewidth\":0,\"ticks\":\"\"},\"colorscale\":[[0.0,\"#0d0887\"],[0.1111111111111111,\"#46039f\"],[0.2222222222222222,\"#7201a8\"],[0.3333333333333333,\"#9c179e\"],[0.4444444444444444,\"#bd3786\"],[0.5555555555555556,\"#d8576b\"],[0.6666666666666666,\"#ed7953\"],[0.7777777777777778,\"#fb9f3a\"],[0.8888888888888888,\"#fdca26\"],[1.0,\"#f0f921\"]],\"type\":\"heatmapgl\"}],\"heatmap\":[{\"colorbar\":{\"outlinewidth\":0,\"ticks\":\"\"},\"colorscale\":[[0.0,\"#0d0887\"],[0.1111111111111111,\"#46039f\"],[0.2222222222222222,\"#7201a8\"],[0.3333333333333333,\"#9c179e\"],[0.4444444444444444,\"#bd3786\"],[0.5555555555555556,\"#d8576b\"],[0.6666666666666666,\"#ed7953\"],[0.7777777777777778,\"#fb9f3a\"],[0.8888888888888888,\"#fdca26\"],[1.0,\"#f0f921\"]],\"type\":\"heatmap\"}],\"histogram2dcontour\":[{\"colorbar\":{\"outlinewidth\":0,\"ticks\":\"\"},\"colorscale\":[[0.0,\"#0d0887\"],[0.1111111111111111,\"#46039f\"],[0.2222222222222222,\"#7201a8\"],[0.3333333333333333,\"#9c179e\"],[0.4444444444444444,\"#bd3786\"],[0.5555555555555556,\"#d8576b\"],[0.6666666666666666,\"#ed7953\"],[0.7777777777777778,\"#fb9f3a\"],[0.8888888888888888,\"#fdca26\"],[1.0,\"#f0f921\"]],\"type\":\"histogram2dcontour\"}],\"histogram2d\":[{\"colorbar\":{\"outlinewidth\":0,\"ticks\":\"\"},\"colorscale\":[[0.0,\"#0d0887\"],[0.1111111111111111,\"#46039f\"],[0.2222222222222222,\"#7201a8\"],[0.3333333333333333,\"#9c179e\"],[0.4444444444444444,\"#bd3786\"],[0.5555555555555556,\"#d8576b\"],[0.6666666666666666,\"#ed7953\"],[0.7777777777777778,\"#fb9f3a\"],[0.8888888888888888,\"#fdca26\"],[1.0,\"#f0f921\"]],\"type\":\"histogram2d\"}],\"histogram\":[{\"marker\":{\"pattern\":{\"fillmode\":\"overlay\",\"size\":10,\"solidity\":0.2}},\"type\":\"histogram\"}],\"mesh3d\":[{\"colorbar\":{\"outlinewidth\":0,\"ticks\":\"\"},\"type\":\"mesh3d\"}],\"parcoords\":[{\"line\":{\"colorbar\":{\"outlinewidth\":0,\"ticks\":\"\"}},\"type\":\"parcoords\"}],\"pie\":[{\"automargin\":true,\"type\":\"pie\"}],\"scatter3d\":[{\"line\":{\"colorbar\":{\"outlinewidth\":0,\"ticks\":\"\"}},\"marker\":{\"colorbar\":{\"outlinewidth\":0,\"ticks\":\"\"}},\"type\":\"scatter3d\"}],\"scattercarpet\":[{\"marker\":{\"colorbar\":{\"outlinewidth\":0,\"ticks\":\"\"}},\"type\":\"scattercarpet\"}],\"scattergeo\":[{\"marker\":{\"colorbar\":{\"outlinewidth\":0,\"ticks\":\"\"}},\"type\":\"scattergeo\"}],\"scattergl\":[{\"marker\":{\"colorbar\":{\"outlinewidth\":0,\"ticks\":\"\"}},\"type\":\"scattergl\"}],\"scattermapbox\":[{\"marker\":{\"colorbar\":{\"outlinewidth\":0,\"ticks\":\"\"}},\"type\":\"scattermapbox\"}],\"scatterpolargl\":[{\"marker\":{\"colorbar\":{\"outlinewidth\":0,\"ticks\":\"\"}},\"type\":\"scatterpolargl\"}],\"scatterpolar\":[{\"marker\":{\"colorbar\":{\"outlinewidth\":0,\"ticks\":\"\"}},\"type\":\"scatterpolar\"}],\"scatter\":[{\"fillpattern\":{\"fillmode\":\"overlay\",\"size\":10,\"solidity\":0.2},\"type\":\"scatter\"}],\"scatterternary\":[{\"marker\":{\"colorbar\":{\"outlinewidth\":0,\"ticks\":\"\"}},\"type\":\"scatterternary\"}],\"surface\":[{\"colorbar\":{\"outlinewidth\":0,\"ticks\":\"\"},\"colorscale\":[[0.0,\"#0d0887\"],[0.1111111111111111,\"#46039f\"],[0.2222222222222222,\"#7201a8\"],[0.3333333333333333,\"#9c179e\"],[0.4444444444444444,\"#bd3786\"],[0.5555555555555556,\"#d8576b\"],[0.6666666666666666,\"#ed7953\"],[0.7777777777777778,\"#fb9f3a\"],[0.8888888888888888,\"#fdca26\"],[1.0,\"#f0f921\"]],\"type\":\"surface\"}],\"table\":[{\"cells\":{\"fill\":{\"color\":\"#EBF0F8\"},\"line\":{\"color\":\"white\"}},\"header\":{\"fill\":{\"color\":\"#C8D4E3\"},\"line\":{\"color\":\"white\"}},\"type\":\"table\"}]},\"layout\":{\"annotationdefaults\":{\"arrowcolor\":\"#2a3f5f\",\"arrowhead\":0,\"arrowwidth\":1},\"autotypenumbers\":\"strict\",\"coloraxis\":{\"colorbar\":{\"outlinewidth\":0,\"ticks\":\"\"}},\"colorscale\":{\"diverging\":[[0,\"#8e0152\"],[0.1,\"#c51b7d\"],[0.2,\"#de77ae\"],[0.3,\"#f1b6da\"],[0.4,\"#fde0ef\"],[0.5,\"#f7f7f7\"],[0.6,\"#e6f5d0\"],[0.7,\"#b8e186\"],[0.8,\"#7fbc41\"],[0.9,\"#4d9221\"],[1,\"#276419\"]],\"sequential\":[[0.0,\"#0d0887\"],[0.1111111111111111,\"#46039f\"],[0.2222222222222222,\"#7201a8\"],[0.3333333333333333,\"#9c179e\"],[0.4444444444444444,\"#bd3786\"],[0.5555555555555556,\"#d8576b\"],[0.6666666666666666,\"#ed7953\"],[0.7777777777777778,\"#fb9f3a\"],[0.8888888888888888,\"#fdca26\"],[1.0,\"#f0f921\"]],\"sequentialminus\":[[0.0,\"#0d0887\"],[0.1111111111111111,\"#46039f\"],[0.2222222222222222,\"#7201a8\"],[0.3333333333333333,\"#9c179e\"],[0.4444444444444444,\"#bd3786\"],[0.5555555555555556,\"#d8576b\"],[0.6666666666666666,\"#ed7953\"],[0.7777777777777778,\"#fb9f3a\"],[0.8888888888888888,\"#fdca26\"],[1.0,\"#f0f921\"]]},\"colorway\":[\"#636efa\",\"#EF553B\",\"#00cc96\",\"#ab63fa\",\"#FFA15A\",\"#19d3f3\",\"#FF6692\",\"#B6E880\",\"#FF97FF\",\"#FECB52\"],\"font\":{\"color\":\"#2a3f5f\"},\"geo\":{\"bgcolor\":\"white\",\"lakecolor\":\"white\",\"landcolor\":\"white\",\"showlakes\":true,\"showland\":true,\"subunitcolor\":\"#C8D4E3\"},\"hoverlabel\":{\"align\":\"left\"},\"hovermode\":\"closest\",\"mapbox\":{\"style\":\"light\"},\"paper_bgcolor\":\"white\",\"plot_bgcolor\":\"white\",\"polar\":{\"angularaxis\":{\"gridcolor\":\"#EBF0F8\",\"linecolor\":\"#EBF0F8\",\"ticks\":\"\"},\"bgcolor\":\"white\",\"radialaxis\":{\"gridcolor\":\"#EBF0F8\",\"linecolor\":\"#EBF0F8\",\"ticks\":\"\"}},\"scene\":{\"xaxis\":{\"backgroundcolor\":\"white\",\"gridcolor\":\"#DFE8F3\",\"gridwidth\":2,\"linecolor\":\"#EBF0F8\",\"showbackground\":true,\"ticks\":\"\",\"zerolinecolor\":\"#EBF0F8\"},\"yaxis\":{\"backgroundcolor\":\"white\",\"gridcolor\":\"#DFE8F3\",\"gridwidth\":2,\"linecolor\":\"#EBF0F8\",\"showbackground\":true,\"ticks\":\"\",\"zerolinecolor\":\"#EBF0F8\"},\"zaxis\":{\"backgroundcolor\":\"white\",\"gridcolor\":\"#DFE8F3\",\"gridwidth\":2,\"linecolor\":\"#EBF0F8\",\"showbackground\":true,\"ticks\":\"\",\"zerolinecolor\":\"#EBF0F8\"}},\"shapedefaults\":{\"line\":{\"color\":\"#2a3f5f\"}},\"ternary\":{\"aaxis\":{\"gridcolor\":\"#DFE8F3\",\"linecolor\":\"#A2B1C6\",\"ticks\":\"\"},\"baxis\":{\"gridcolor\":\"#DFE8F3\",\"linecolor\":\"#A2B1C6\",\"ticks\":\"\"},\"bgcolor\":\"white\",\"caxis\":{\"gridcolor\":\"#DFE8F3\",\"linecolor\":\"#A2B1C6\",\"ticks\":\"\"}},\"title\":{\"x\":0.05},\"xaxis\":{\"automargin\":true,\"gridcolor\":\"#EBF0F8\",\"linecolor\":\"#EBF0F8\",\"ticks\":\"\",\"title\":{\"standoff\":15},\"zerolinecolor\":\"#EBF0F8\",\"zerolinewidth\":2},\"yaxis\":{\"automargin\":true,\"gridcolor\":\"#EBF0F8\",\"linecolor\":\"#EBF0F8\",\"ticks\":\"\",\"title\":{\"standoff\":15},\"zerolinecolor\":\"#EBF0F8\",\"zerolinewidth\":2}}},\"xaxis\":{\"anchor\":\"y\",\"domain\":[0.0,1.0],\"title\":{\"text\":\"Lap Number\"}},\"yaxis\":{\"anchor\":\"x\",\"domain\":[0.0,1.0],\"title\":{\"text\":\"Lap Time (s)\"}},\"legend\":{\"title\":{\"text\":\"Compound\"},\"tracegroupgap\":0},\"title\":{\"text\":\"Lap Times (seconds) by Tire Compound\"}},                        {\"responsive\": true}                    ).then(function(){\n",
       "                            \n",
       "var gd = document.getElementById('54fa73cd-d964-48f1-9086-1e67487acf71');\n",
       "var x = new MutationObserver(function (mutations, observer) {{\n",
       "        var display = window.getComputedStyle(gd).display;\n",
       "        if (!display || display === 'none') {{\n",
       "            console.log([gd, 'removed!']);\n",
       "            Plotly.purge(gd);\n",
       "            observer.disconnect();\n",
       "        }}\n",
       "}});\n",
       "\n",
       "// Listen for the removal of the full notebook cells\n",
       "var notebookContainer = gd.closest('#notebook-container');\n",
       "if (notebookContainer) {{\n",
       "    x.observe(notebookContainer, {childList: true});\n",
       "}}\n",
       "\n",
       "// Listen for the clearing of the current output cell\n",
       "var outputEl = gd.closest('.output');\n",
       "if (outputEl) {{\n",
       "    x.observe(outputEl, {childList: true});\n",
       "}}\n",
       "\n",
       "                        })                };                });            </script>        </div>"
      ]
     },
     "metadata": {},
     "output_type": "display_data"
    }
   ],
   "source": [
    "fig = px.line(\n",
    "    data_frame=df_laps_plot,\n",
    "    x = 'LapNumber',\n",
    "    y = 'LapTimeinSeconds',\n",
    "    color = 'Compound',\n",
    "    title = 'Lap Times (seconds) by Tire Compound',\n",
    "    labels = {\n",
    "        'LapNumber' : 'Lap Number',\n",
    "        'LapTimeinSeconds' : 'Lap Time (s)'\n",
    "    },\n",
    "    template = 'plotly_white',\n",
    "    color_discrete_sequence = px.colors.qualitative.Safe\n",
    "             )\n",
    "\n",
    "fig.show()"
   ]
  }
 ],
 "metadata": {
  "kernelspec": {
   "display_name": "Python 3 (ipykernel)",
   "language": "python",
   "name": "python3"
  },
  "language_info": {
   "codemirror_mode": {
    "name": "ipython",
    "version": 3
   },
   "file_extension": ".py",
   "mimetype": "text/x-python",
   "name": "python",
   "nbconvert_exporter": "python",
   "pygments_lexer": "ipython3",
   "version": "3.9.7"
  }
 },
 "nbformat": 4,
 "nbformat_minor": 5
}

{
 "cells": [
  {
   "cell_type": "code",
   "execution_count": 41,
   "id": "ab89c861",
   "metadata": {},
   "outputs": [],
   "source": [
    "import os"
   ]
  },
  {
   "cell_type": "code",
   "execution_count": 42,
   "id": "b9e558bb",
   "metadata": {},
   "outputs": [],
   "source": [
    "%run get_latest_event_round.ipynb"
   ]
  },
  {
   "cell_type": "code",
   "execution_count": 43,
   "id": "24d2ac16",
   "metadata": {},
   "outputs": [],
   "source": [
    "import fastf1 as ff1\n",
    "\n",
    "# from matplotlib import pyplot as plt\n",
    "# from fastf1 import plotting\n",
    "# import seaborn as sns\n",
    "import pandas as pd\n",
    "\n",
    "from datetime import datetime"
   ]
  },
  {
   "cell_type": "code",
   "execution_count": 44,
   "id": "f626ea35",
   "metadata": {},
   "outputs": [],
   "source": [
    "year = datetime.today().year\n",
    "round_num = round_number\n",
    "session_name = \"R\""
   ]
  },
  {
   "cell_type": "code",
   "execution_count": 45,
   "id": "fe4795fc",
   "metadata": {},
   "outputs": [],
   "source": [
    "# Set location of cache\n",
    "start = r'C:\\Users\\Kyle\\Documents\\Projects\\Data Projects\\f1'\n",
    "\n",
    "direct = start+'\\\\fastf1_cache'\n",
    "\n",
    "ff1.Cache.enable_cache(direct)"
   ]
  },
  {
   "cell_type": "code",
   "execution_count": 46,
   "id": "94dfe25c",
   "metadata": {},
   "outputs": [
    {
     "name": "stderr",
     "output_type": "stream",
     "text": [
      "core           INFO \tLoading data for Monaco Grand Prix - Race [v2.2.8]\n",
      "api            INFO \tNo cached data found for driver_info. Loading data...\n",
      "api            INFO \tFetching driver list...\n",
      "api            INFO \tData has been written to cache!\n",
      "api            INFO \tNo cached data found for timing_data. Loading data...\n",
      "api            INFO \tFetching timing data...\n",
      "api            INFO \tParsing timing data...\n",
      "api            INFO \tData has been written to cache!\n",
      "api            INFO \tNo cached data found for timing_app_data. Loading data...\n",
      "api            INFO \tFetching timing app data...\n",
      "api            INFO \tData has been written to cache!\n",
      "core           INFO \tProcessing timing data...\n",
      "api            INFO \tNo cached data found for session_status_data. Loading data...\n",
      "api            INFO \tFetching session status data...\n",
      "api            INFO \tData has been written to cache!\n",
      "api            INFO \tNo cached data found for track_status_data. Loading data...\n",
      "api            INFO \tFetching track status data...\n",
      "api            INFO \tData has been written to cache!\n",
      "C:\\Users\\Kyle\\miniconda3\\lib\\site-packages\\fastf1\\core.py:1310: FutureWarning: The frame.append method is deprecated and will be removed from pandas in a future version. Use pandas.concat instead.\n",
      "  result = result.append(new_last).reset_index(drop=True)\n",
      "api            INFO \tNo cached data found for car_data. Loading data...\n",
      "api            INFO \tFetching car data...\n",
      "api            INFO \tParsing car data...\n",
      "api            INFO \tData has been written to cache!\n",
      "api            INFO \tNo cached data found for position_data. Loading data...\n",
      "api            INFO \tFetching position data...\n",
      "api            INFO \tParsing position data...\n",
      "api         WARNING \tDriver 241: Position data is incomplete!\n",
      "api         WARNING \tDriver 242: Position data is incomplete!\n",
      "api         WARNING \tDriver 243: Position data is incomplete!\n",
      "api            INFO \tData has been written to cache!\n",
      "api            INFO \tNo cached data found for race_control_messages. Loading data...\n",
      "api            INFO \tFetching race control messages...\n",
      "api            INFO \tData has been written to cache!\n",
      "core           INFO \tFinished loading data for 20 drivers: ['11', '55', '1', '16', '63', '4', '14', '44', '77', '5', '10', '31', '3', '18', '6', '24', '22', '23', '47', '20']\n",
      "C:\\Users\\Kyle\\miniconda3\\lib\\site-packages\\fastf1\\core.py:1127: FutureWarning: `Session.load_laps` is deprecated and will beremoved in a future version.\n",
      "Use `Session.load` instead.\n",
      "  warnings.warn(\"`Session.load_laps` is deprecated and will be\"\n",
      "core           INFO \tLoading data for Monaco Grand Prix - Race [v2.2.8]\n",
      "api            INFO \tUsing cached data for driver_info\n",
      "api            INFO \tUsing cached data for timing_data\n",
      "api            INFO \tUsing cached data for timing_app_data\n",
      "core           INFO \tProcessing timing data...\n",
      "api            INFO \tUsing cached data for session_status_data\n",
      "api            INFO \tUsing cached data for track_status_data\n",
      "C:\\Users\\Kyle\\miniconda3\\lib\\site-packages\\fastf1\\core.py:1310: FutureWarning: The frame.append method is deprecated and will be removed from pandas in a future version. Use pandas.concat instead.\n",
      "  result = result.append(new_last).reset_index(drop=True)\n",
      "api            INFO \tNo cached data found for weather_data. Loading data...\n",
      "api            INFO \tFetching weather data...\n",
      "api            INFO \tData has been written to cache!\n",
      "api            INFO \tUsing cached data for race_control_messages\n",
      "core           INFO \tFinished loading data for 20 drivers: ['11', '55', '1', '16', '63', '4', '14', '44', '77', '5', '10', '31', '3', '18', '6', '24', '22', '23', '47', '20']\n"
     ]
    }
   ],
   "source": [
    "event = ff1.get_event(year, round_num)\n",
    "\n",
    "session = ff1.get_session(year, round_num, session_name)\n",
    "\n",
    "session_data = session.load(laps=True, telemetry=True, weather=False)\n",
    "\n",
    "laps = session.load_laps()\n",
    "\n",
    "laps.to_csv(start+\"\\\\timing_data\\\\\"+str(year)+\"_\"+str(round_num) +\n",
    "            \"_\"+session_name+\"_laps.csv\", index=False)\n",
    "\n",
    "telem_final = pd.DataFrame()"
   ]
  },
  {
   "cell_type": "code",
   "execution_count": 47,
   "id": "d4dbd388",
   "metadata": {},
   "outputs": [],
   "source": [
    "# Get fastest lap for each driver and get telemetry from lap\n",
    "for driver in laps['Driver'].unique():\n",
    "    try:\n",
    "        telem = laps.pick_driver(\n",
    "            driver).pick_fastest().get_car_data().add_distance()\n",
    "\n",
    "    except:\n",
    "        continue\n",
    "\n",
    "    else:\n",
    "        # Add column with driver name\n",
    "        telem['Driver'] = driver\n",
    "\n",
    "        team = laps.pick_driver(driver).pick_fastest()['Team']\n",
    "\n",
    "        telem['Team'] = team\n",
    "\n",
    "        # combine to master table\n",
    "        telem_final = pd.concat([telem, telem_final])\n",
    "\n",
    "telem_final.to_csv(start+\"\\\\timing_data\\\\\"+str(year)+\"_\" +\n",
    "                   str(round_num)+\"_\"+session_name+\"_telem_fastest.csv\", index=False)\n",
    "\n",
    "print('File saved. Done.')"
   ]
  }
 ],
 "metadata": {
  "kernelspec": {
   "display_name": "Python 3 (ipykernel)",
   "language": "python",
   "name": "python3"
  },
  "language_info": {
   "codemirror_mode": {
    "name": "ipython",
    "version": 3
   },
   "file_extension": ".py",
   "mimetype": "text/x-python",
   "name": "python",
   "nbconvert_exporter": "python",
   "pygments_lexer": "ipython3",
   "version": "3.9.7"
  }
 },
 "nbformat": 4,
 "nbformat_minor": 5
}

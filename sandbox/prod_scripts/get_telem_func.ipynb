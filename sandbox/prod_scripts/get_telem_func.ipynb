{
 "cells": [
  {
   "cell_type": "code",
   "execution_count": 3,
   "id": "ab89c861",
   "metadata": {},
   "outputs": [],
   "source": [
    "import os"
   ]
  },
  {
   "cell_type": "code",
   "execution_count": 5,
   "id": "24d2ac16",
   "metadata": {},
   "outputs": [],
   "source": [
    "import fastf1 as ff1\n",
    "\n",
    "# from matplotlib import pyplot as plt\n",
    "# from fastf1 import plotting\n",
    "# import seaborn as sns\n",
    "import pandas as pd\n",
    "\n",
    "from datetime import datetime"
   ]
  },
  {
   "cell_type": "code",
   "execution_count": 6,
   "id": "f626ea35",
   "metadata": {},
   "outputs": [],
   "source": [
    "year = datetime.today().year"
   ]
  },
  {
   "cell_type": "code",
   "execution_count": 7,
   "id": "fe4795fc",
   "metadata": {},
   "outputs": [],
   "source": [
    "# Set location of cache\n",
    "start = r'C:\\Users\\Kyle\\Documents\\Projects\\Data Projects\\f1'\n",
    "\n",
    "direct = start+'\\\\fastf1_cache'\n",
    "\n",
    "ff1.Cache.enable_cache(direct)"
   ]
  },
  {
   "cell_type": "code",
   "execution_count": 12,
   "id": "94dfe25c",
   "metadata": {},
   "outputs": [
    {
     "name": "stderr",
     "output_type": "stream",
     "text": [
      "core           INFO \tLoading data for Canadian Grand Prix - Race [v2.2.8]\n",
      "api            INFO \tUsing cached data for driver_info\n",
      "core        WARNING \tFailed to load data from Ergast API! (This is expected for recent sessions)\n",
      "api            INFO \tUsing cached data for timing_data\n",
      "api            INFO \tUsing cached data for timing_app_data\n",
      "core           INFO \tProcessing timing data...\n",
      "api            INFO \tUsing cached data for session_status_data\n",
      "api            INFO \tUsing cached data for track_status_data\n",
      "api            INFO \tUsing cached data for car_data\n",
      "api            INFO \tUsing cached data for position_data\n",
      "api            INFO \tUsing cached data for race_control_messages\n",
      "core           INFO \tFinished loading data for 20 drivers: ['1', '6', '18', '5', '10', '4', '11', '23', '77', '24', '3', '63', '31', '47', '20', '44', '55', '14', '16', '22']\n",
      "C:\\Users\\Kyle\\miniconda3\\lib\\site-packages\\fastf1\\core.py:1127: FutureWarning: `Session.load_laps` is deprecated and will beremoved in a future version.\n",
      "Use `Session.load` instead.\n",
      "  warnings.warn(\"`Session.load_laps` is deprecated and will be\"\n",
      "core           INFO \tLoading data for Canadian Grand Prix - Race [v2.2.8]\n",
      "api            INFO \tUsing cached data for driver_info\n",
      "core        WARNING \tFailed to load data from Ergast API! (This is expected for recent sessions)\n",
      "api            INFO \tUsing cached data for timing_data\n",
      "api            INFO \tUsing cached data for timing_app_data\n",
      "core           INFO \tProcessing timing data...\n",
      "api            INFO \tUsing cached data for session_status_data\n",
      "api            INFO \tUsing cached data for track_status_data\n",
      "api            INFO \tUsing cached data for weather_data\n",
      "api            INFO \tUsing cached data for race_control_messages\n",
      "core           INFO \tFinished loading data for 20 drivers: ['1', '6', '18', '5', '10', '4', '11', '23', '77', '24', '3', '63', '31', '47', '20', '44', '55', '14', '16', '22']\n"
     ]
    }
   ],
   "source": [
    "def get_laps(year, rounds, session='R'):\n",
    "    \n",
    "    for round_num in rounds:\n",
    "        \n",
    "        # Get event info\n",
    "        event = ff1.get_event(year, round_num)\n",
    "        \n",
    "        # Get session data\n",
    "        session = ff1.get_session(year, round_num, session)\n",
    "\n",
    "        # Not used: session_data = session.load(laps=True, telemetry=True, weather=False)\n",
    "\n",
    "        # Load in laps (no telem) and save to csv for race\n",
    "        laps = session.load_laps()\n",
    "        laps['Round'] = round_num\n",
    "        laps['Year'] = year\n",
    "        laps['Session'] = session\n",
    "        laps['EventName'] = event['EventName']\n",
    "\n",
    "        # Write session data to a csv\n",
    "        laps.to_csv(start+\"\\\\timing_data\\\\\"+str(year)+\"_\"+str(round_num) +\n",
    "                    \"_\"+session_name+\"_laps.csv\", index=False)"
   ]
  },
  {
   "cell_type": "code",
   "execution_count": 1,
   "id": "d0061791",
   "metadata": {},
   "outputs": [
    {
     "ename": "SyntaxError",
     "evalue": "invalid syntax (2017154935.py, line 1)",
     "output_type": "error",
     "traceback": [
      "\u001b[1;36m  Input \u001b[1;32mIn [1]\u001b[1;36m\u001b[0m\n\u001b[1;33m    def get_telem(year, rounds, all_rounds=False)\u001b[0m\n\u001b[1;37m                                                 ^\u001b[0m\n\u001b[1;31mSyntaxError\u001b[0m\u001b[1;31m:\u001b[0m invalid syntax\n"
     ]
    }
   ],
   "source": [
    "def get_telem(year, rounds, all_rounds=False):\n",
    "    if all_rounds = True:\n",
    "        nrounds = ff1.get_event_schedule(year)['RoundNumber'].max()\n",
    "        rounds = range(1,nrounds)\n",
    "    \n",
    "    for round_num in rounds:\n",
    "        \n",
    "        # Create object to save telem data to\n",
    "        telem_final = pd.DataFrame()\n",
    "\n",
    "        # Get event info\n",
    "        event = ff1.get_event(year, round_num)\n",
    "\n",
    "        # Get session data\n",
    "        session = ff1.get_session(year, round_num, session)\n",
    "\n",
    "        session_data = session.load(laps=True, telemetry=True, weather=False)\n",
    "\n",
    "        # Load in laps (no telem) and save to csv for race\n",
    "        laps = session.load_laps()\n",
    "\n",
    "        # Get race details for each driver in the session\n",
    "        for driver in laps['Driver'].unique():\n",
    "            print(\"Working on \", driver)\n",
    "\n",
    "            # Get number of laps the driver completed\n",
    "            driver_laps = laps.pick_driver(driver)\n",
    "            timed_laps = driver_laps[driver_laps['LapTime'].isnull() == False]\n",
    "            team = driver_laps['Team'].iloc[0]\n",
    "\n",
    "            # Get telem for each lap\n",
    "            for i in range(len(timed_laps)):\n",
    "                try:\n",
    "                    print(\"Lap \", i)\n",
    "                    lap_telem = timed_laps.iloc[[i]].get_car_data().add_distance()\n",
    "                    lap_telem['Driver'] = driver\n",
    "                    lap_telem['Team'] = team\n",
    "                    lap_telem['Lap'] = i\n",
    "\n",
    "\n",
    "                    telem_final = pd.concat([lap_telem, telem_final])\n",
    "                except:\n",
    "                    print('exception raised, continuing')\n",
    "                    continue\n",
    "\n",
    "        # Save session telem to file\n",
    "        telem_final.to_csv(start+\"\\\\timing_data\\\\\"+str(year)+\"_\" +\n",
    "                           str(round_num)+\"_\"+session_name+\"_telem_all.csv\", index=False)\n",
    "\n",
    "        print('Saved to folder. Done.')"
   ]
  }
 ],
 "metadata": {
  "kernelspec": {
   "display_name": "Python 3 (ipykernel)",
   "language": "python",
   "name": "python3"
  },
  "language_info": {
   "codemirror_mode": {
    "name": "ipython",
    "version": 3
   },
   "file_extension": ".py",
   "mimetype": "text/x-python",
   "name": "python",
   "nbconvert_exporter": "python",
   "pygments_lexer": "ipython3",
   "version": "3.9.7"
  }
 },
 "nbformat": 4,
 "nbformat_minor": 5
}
